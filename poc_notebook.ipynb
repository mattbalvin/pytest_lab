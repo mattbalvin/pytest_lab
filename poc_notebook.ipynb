{
  "nbformat": 4,
  "nbformat_minor": 0,
  "metadata": {
    "colab": {
      "name": "poc_notebook.ipynb",
      "provenance": [],
      "authorship_tag": "ABX9TyNHSaHg7mJd5ulrTzahwXlV",
      "include_colab_link": true
    },
    "kernelspec": {
      "name": "python3",
      "display_name": "Python 3"
    }
  },
  "cells": [
    {
      "cell_type": "markdown",
      "metadata": {
        "id": "view-in-github",
        "colab_type": "text"
      },
      "source": [
        "<a href=\"https://colab.research.google.com/github/mattbalvin/pytest_lab/blob/master/poc_notebook.ipynb\" target=\"_parent\"><img src=\"https://colab.research.google.com/assets/colab-badge.svg\" alt=\"Open In Colab\"/></a>"
      ]
    },
    {
      "cell_type": "markdown",
      "metadata": {
        "id": "uv5medL_LwBa",
        "colab_type": "text"
      },
      "source": [
        "# POC Notebook\n",
        "\n",
        "This is a Proof-of-concept for Jupyter Notebook Test Automation with pytest and nbval.\n",
        "\n",
        "With project notebooks being a central place for executable algorithm documentation, it is essential to incorporate them into test automation processes.\n"
      ]
    },
    {
      "cell_type": "code",
      "metadata": {
        "id": "FILnsicDLt6N",
        "colab_type": "code",
        "colab": {}
      },
      "source": [
        "def basic_function_add10(a_value):\n",
        "  return a_value + 10"
      ],
      "execution_count": 1,
      "outputs": []
    },
    {
      "cell_type": "code",
      "metadata": {
        "id": "0eDuZI2OMvcX",
        "colab_type": "code",
        "colab": {
          "base_uri": "https://localhost:8080/",
          "height": 35
        },
        "outputId": "bbfe4391-59e3-4e5a-fcc3-aef7a847476a"
      },
      "source": [
        "basic_function_add10(32)"
      ],
      "execution_count": 2,
      "outputs": [
        {
          "output_type": "execute_result",
          "data": {
            "text/plain": [
              "42"
            ]
          },
          "metadata": {
            "tags": []
          },
          "execution_count": 2
        }
      ]
    },
    {
      "cell_type": "code",
      "metadata": {
        "id": "Ar6bYTC8M1i3",
        "colab_type": "code",
        "colab": {}
      },
      "source": [
        "assert (basic_function_add10(32) - 10) == 32"
      ],
      "execution_count": 3,
      "outputs": []
    },
    {
      "cell_type": "code",
      "metadata": {
        "id": "k7w6giYkNAUI",
        "colab_type": "code",
        "colab": {}
      },
      "source": [
        ""
      ],
      "execution_count": null,
      "outputs": []
    }
  ]
}